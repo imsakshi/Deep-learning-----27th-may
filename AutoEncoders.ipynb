{
 "cells": [
  {
   "cell_type": "code",
   "execution_count": null,
   "metadata": {},
   "outputs": [],
   "source": [
    "What is Unsupervised ML?\n",
    "Data without labels.\n",
    "Abbhi tk hmne jitne bhi nn k architectures kie h\n",
    "wo supervised dl thi yea unsupervised dl?\n",
    "Supervised dl"
   ]
  },
  {
   "cell_type": "code",
   "execution_count": null,
   "metadata": {},
   "outputs": [],
   "source": [
    "AutoEncoders : Autoencoder is a unsupervised artificial neural network\n",
    "    that learns how to efficiently compress and encode data then how to construct the data\n",
    "    back from the reduced encoded representations that is as close to the original \n",
    "    input as possible.\n",
    "auto -- Automatic , jo khud s ho jaye.\n",
    "Encoder -- Encryption of data, or dl m\n",
    "           encryption ka mtlb dimension reduce krna."
   ]
  },
  {
   "cell_type": "code",
   "execution_count": null,
   "metadata": {},
   "outputs": [],
   "source": [
    "Autoencoders by design , reduces data dimensions by learning how to\n",
    "ignore the noise in data."
   ]
  },
  {
   "cell_type": "code",
   "execution_count": null,
   "metadata": {},
   "outputs": [],
   "source": [
    "Components of Autoencoders:\n",
    "It has 4 components :\n",
    "1. Encoder : In this the model learns how to reduce the input dimension\n",
    "             and compress the input data into an encoded representation.\n",
    "2. BottleNeck : Which is the layer that contains the compressd reprentation\n",
    "                of the input data. This is the lowest possible dimensions of th \n",
    "                input data.\n",
    "3. Decoder : in which the model learns how to reconstruct the data from the\n",
    "             encoded representation to be as close to the original input as\n",
    "            possible.\n",
    "4. Reconstruction Loss : This is the method that measures how well the decoder\n",
    "                        is performing and how close the output is to the\n",
    "                       original input."
   ]
  },
  {
   "cell_type": "code",
   "execution_count": null,
   "metadata": {},
   "outputs": [],
   "source": [
    "1. Anamoly Detection : To detect outliers"
   ]
  },
  {
   "cell_type": "code",
   "execution_count": 1,
   "metadata": {},
   "outputs": [
    {
     "name": "stderr",
     "output_type": "stream",
     "text": [
      "Using TensorFlow backend.\n"
     ]
    }
   ],
   "source": [
    "import numpy as np\n",
    "import keras"
   ]
  },
  {
   "cell_type": "code",
   "execution_count": 2,
   "metadata": {},
   "outputs": [],
   "source": [
    "from keras.datasets import mnist"
   ]
  },
  {
   "cell_type": "code",
   "execution_count": 3,
   "metadata": {},
   "outputs": [],
   "source": [
    "from keras.models import Sequential , Model\n",
    "from keras.layers import Dense, Input"
   ]
  },
  {
   "cell_type": "code",
   "execution_count": 4,
   "metadata": {},
   "outputs": [],
   "source": [
    "from keras import optimizers\n",
    "from keras.optimizers import Adam"
   ]
  },
  {
   "cell_type": "code",
   "execution_count": 5,
   "metadata": {},
   "outputs": [],
   "source": [
    "(x_train,y_train) , (x_test,y_test) = mnist.load_data()"
   ]
  },
  {
   "cell_type": "code",
   "execution_count": 6,
   "metadata": {},
   "outputs": [],
   "source": [
    "train_x = x_train.reshape(60000,784) /255\n",
    "val_x = x_test.reshape(10000,784) /255"
   ]
  },
  {
   "cell_type": "code",
   "execution_count": 7,
   "metadata": {},
   "outputs": [],
   "source": [
    "autoencoder = Sequential()"
   ]
  },
  {
   "cell_type": "code",
   "execution_count": 8,
   "metadata": {},
   "outputs": [
    {
     "name": "stdout",
     "output_type": "stream",
     "text": [
      "WARNING:tensorflow:From C:\\Anaconda3\\lib\\site-packages\\tensorflow\\python\\framework\\op_def_library.py:263: colocate_with (from tensorflow.python.framework.ops) is deprecated and will be removed in a future version.\n",
      "Instructions for updating:\n",
      "Colocations handled automatically by placer.\n"
     ]
    }
   ],
   "source": [
    "autoencoder.add(Dense(512,activation = \"relu\",input_shape=(784,)))"
   ]
  },
  {
   "cell_type": "code",
   "execution_count": 9,
   "metadata": {},
   "outputs": [],
   "source": [
    "autoencoder.add(Dense(128,activation = \"relu\"))\n",
    "autoencoder.add(Dense(10,activation = \"linear\", name = \"bottleneck\"))\n",
    "autoencoder.add(Dense(128,activation = \"relu\"))\n",
    "autoencoder.add(Dense(512,activation = \"relu\"))\n",
    "autoencoder.add(Dense(784,activation = \"sigmoid\"))"
   ]
  },
  {
   "cell_type": "code",
   "execution_count": 10,
   "metadata": {},
   "outputs": [],
   "source": [
    "autoencoder.compile(loss = \"mean_squared_error\" , optimizer=\"Adam\")"
   ]
  },
  {
   "cell_type": "code",
   "execution_count": 11,
   "metadata": {},
   "outputs": [
    {
     "name": "stdout",
     "output_type": "stream",
     "text": [
      "WARNING:tensorflow:From C:\\Anaconda3\\lib\\site-packages\\tensorflow\\python\\ops\\math_ops.py:3066: to_int32 (from tensorflow.python.ops.math_ops) is deprecated and will be removed in a future version.\n",
      "Instructions for updating:\n",
      "Use tf.cast instead.\n",
      "Train on 60000 samples, validate on 10000 samples\n",
      "Epoch 1/5\n",
      "60000/60000 [==============================] - 10s 160us/step - loss: 0.0908 - val_loss: 0.0649\n",
      "Epoch 2/5\n",
      "60000/60000 [==============================] - 9s 157us/step - loss: 0.0566 - val_loss: 0.0494\n",
      "Epoch 3/5\n",
      "60000/60000 [==============================] - 9s 158us/step - loss: 0.0446 - val_loss: 0.0397\n",
      "Epoch 4/5\n",
      "60000/60000 [==============================] - 7s 116us/step - loss: 0.0374 - val_loss: 0.0344\n",
      "Epoch 5/5\n",
      "60000/60000 [==============================] - 9s 158us/step - loss: 0.0327 - val_loss: 0.0299\n"
     ]
    }
   ],
   "source": [
    "trained_model = autoencoder.fit(train_x,train_x,batch_size=1024,epochs=5,validation_data=(val_x,val_x))"
   ]
  },
  {
   "cell_type": "code",
   "execution_count": null,
   "metadata": {},
   "outputs": [],
   "source": [
    "As you can see in the output, the last error for validation set is 0.0299, if you pass any normal image from mnist \n",
    "the reconstruction loss will be very low.\n",
    "But if u pass any other different image(outlier) , you will have a very high reconstruction loss."
   ]
  },
  {
   "cell_type": "code",
   "execution_count": 12,
   "metadata": {},
   "outputs": [],
   "source": [
    "encoder = Model(autoencoder.input,autoencoder.get_layer(\"bottleneck\").output)"
   ]
  },
  {
   "cell_type": "code",
   "execution_count": 13,
   "metadata": {},
   "outputs": [
    {
     "data": {
      "text/plain": [
       "<keras.engine.training.Model at 0x29a6320ecf8>"
      ]
     },
     "execution_count": 13,
     "metadata": {},
     "output_type": "execute_result"
    }
   ],
   "source": [
    "encoder"
   ]
  },
  {
   "cell_type": "code",
   "execution_count": 14,
   "metadata": {},
   "outputs": [],
   "source": [
    "encoded_data = encoder.predict(train_x)"
   ]
  },
  {
   "cell_type": "code",
   "execution_count": 15,
   "metadata": {},
   "outputs": [
    {
     "data": {
      "text/plain": [
       "array([[ -5.2379966,  13.925947 ,  24.324053 , ...,   8.771245 ,\n",
       "        -10.000618 ,   4.3316135],\n",
       "       [  4.8218675,   6.491459 ,  12.326339 , ...,  15.465543 ,\n",
       "         -9.180608 ,   3.9307144],\n",
       "       [  6.6753902,   2.7270453,  10.521163 , ...,  -3.5574956,\n",
       "         -3.3075504,   3.602307 ],\n",
       "       ...,\n",
       "       [ -1.9512413,  10.353385 ,  18.706968 , ...,   8.186432 ,\n",
       "        -14.369327 ,   2.003273 ],\n",
       "       [  2.7752633,   6.6186852,   7.7484856, ...,   1.2719151,\n",
       "         -4.2759376,  -2.1938589],\n",
       "       [  2.4651136,  10.122268 ,   8.5215025, ...,   3.6970236,\n",
       "        -14.406985 ,  -1.6192912]], dtype=float32)"
      ]
     },
     "execution_count": 15,
     "metadata": {},
     "output_type": "execute_result"
    }
   ],
   "source": [
    "encoded_data"
   ]
  },
  {
   "cell_type": "code",
   "execution_count": 16,
   "metadata": {},
   "outputs": [
    {
     "data": {
      "text/plain": [
       "2"
      ]
     },
     "execution_count": 16,
     "metadata": {},
     "output_type": "execute_result"
    }
   ],
   "source": [
    "encoded_data.ndim"
   ]
  },
  {
   "cell_type": "code",
   "execution_count": 19,
   "metadata": {},
   "outputs": [
    {
     "data": {
      "text/plain": [
       "(60000, 10)"
      ]
     },
     "execution_count": 19,
     "metadata": {},
     "output_type": "execute_result"
    }
   ],
   "source": [
    "encoded_data.shape"
   ]
  },
  {
   "cell_type": "code",
   "execution_count": 21,
   "metadata": {},
   "outputs": [
    {
     "data": {
      "text/plain": [
       "(10,)"
      ]
     },
     "execution_count": 21,
     "metadata": {},
     "output_type": "execute_result"
    }
   ],
   "source": [
    "encoded_data[0].shape#bottleneck representation"
   ]
  },
  {
   "cell_type": "code",
   "execution_count": null,
   "metadata": {},
   "outputs": [],
   "source": []
  }
 ],
 "metadata": {
  "kernelspec": {
   "display_name": "Python 3",
   "language": "python",
   "name": "python3"
  },
  "language_info": {
   "codemirror_mode": {
    "name": "ipython",
    "version": 3
   },
   "file_extension": ".py",
   "mimetype": "text/x-python",
   "name": "python",
   "nbconvert_exporter": "python",
   "pygments_lexer": "ipython3",
   "version": "3.7.1"
  }
 },
 "nbformat": 4,
 "nbformat_minor": 2
}
