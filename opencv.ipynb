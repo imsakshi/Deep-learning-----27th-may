{
 "cells": [
  {
   "cell_type": "code",
   "execution_count": 1,
   "metadata": {},
   "outputs": [],
   "source": [
    "import numpy as np\n",
    "import pandas as pd\n",
    "import matplotlib.pyplot as plt"
   ]
  },
  {
   "cell_type": "code",
   "execution_count": 2,
   "metadata": {},
   "outputs": [],
   "source": [
    "import cv2"
   ]
  },
  {
   "cell_type": "code",
   "execution_count": 3,
   "metadata": {},
   "outputs": [],
   "source": [
    "img = cv2.imread(\"b.jpg\")"
   ]
  },
  {
   "cell_type": "code",
   "execution_count": 4,
   "metadata": {},
   "outputs": [
    {
     "data": {
      "text/plain": [
       "numpy.ndarray"
      ]
     },
     "execution_count": 4,
     "metadata": {},
     "output_type": "execute_result"
    }
   ],
   "source": [
    "type(img)"
   ]
  },
  {
   "cell_type": "code",
   "execution_count": 5,
   "metadata": {},
   "outputs": [
    {
     "data": {
      "text/plain": [
       "array([[[220, 220, 220],\n",
       "        [144, 144, 144],\n",
       "        [160, 160, 160],\n",
       "        ...,\n",
       "        [179, 179, 179],\n",
       "        [165, 165, 165],\n",
       "        [234, 234, 234]],\n",
       "\n",
       "       [[142, 142, 142],\n",
       "        [ 19,  19,  19],\n",
       "        [  8,   8,   8],\n",
       "        ...,\n",
       "        [ 22,  22,  22],\n",
       "        [ 45,  45,  45],\n",
       "        [189, 189, 189]],\n",
       "\n",
       "       [[162, 162, 162],\n",
       "        [  3,   3,   3],\n",
       "        [  0,   0,   0],\n",
       "        ...,\n",
       "        [ 17,  17,  17],\n",
       "        [ 41,  41,  41],\n",
       "        [220, 220, 220]],\n",
       "\n",
       "       ...,\n",
       "\n",
       "       [[162, 162, 162],\n",
       "        [  3,   3,   3],\n",
       "        [  0,   0,   0],\n",
       "        ...,\n",
       "        [ 84,  84,  84],\n",
       "        [106, 106, 106],\n",
       "        [229, 229, 229]],\n",
       "\n",
       "       [[142, 142, 142],\n",
       "        [ 19,  19,  19],\n",
       "        [  8,   8,   8],\n",
       "        ...,\n",
       "        [ 91,  91,  91],\n",
       "        [106, 106, 106],\n",
       "        [215, 215, 215]],\n",
       "\n",
       "       [[220, 220, 220],\n",
       "        [144, 144, 144],\n",
       "        [160, 160, 160],\n",
       "        ...,\n",
       "        [203, 203, 203],\n",
       "        [184, 184, 184],\n",
       "        [254, 254, 254]]], dtype=uint8)"
      ]
     },
     "execution_count": 5,
     "metadata": {},
     "output_type": "execute_result"
    }
   ],
   "source": [
    "img"
   ]
  },
  {
   "cell_type": "code",
   "execution_count": 6,
   "metadata": {},
   "outputs": [
    {
     "data": {
      "text/plain": [
       "3"
      ]
     },
     "execution_count": 6,
     "metadata": {},
     "output_type": "execute_result"
    }
   ],
   "source": [
    "img.ndim"
   ]
  },
  {
   "cell_type": "code",
   "execution_count": 7,
   "metadata": {},
   "outputs": [
    {
     "data": {
      "text/plain": [
       "(512, 624, 3)"
      ]
     },
     "execution_count": 7,
     "metadata": {},
     "output_type": "execute_result"
    }
   ],
   "source": [
    "img.shape"
   ]
  },
  {
   "cell_type": "code",
   "execution_count": 8,
   "metadata": {},
   "outputs": [],
   "source": [
    "cv2.imshow(\"original file\" , img)\n",
    "cv2.waitKey(0)\n",
    "cv2.destroyAllWindows() "
   ]
  },
  {
   "cell_type": "code",
   "execution_count": 9,
   "metadata": {},
   "outputs": [],
   "source": [
    "resized_img = cv2.resize(img,(300,300))"
   ]
  },
  {
   "cell_type": "code",
   "execution_count": 10,
   "metadata": {},
   "outputs": [],
   "source": [
    "cv2.imshow(\"original file\" , resized_img)\n",
    "cv2.waitKey(0)\n",
    "cv2.destroyAllWindows() "
   ]
  },
  {
   "cell_type": "code",
   "execution_count": null,
   "metadata": {},
   "outputs": [],
   "source": []
  }
 ],
 "metadata": {
  "kernelspec": {
   "display_name": "Python 3",
   "language": "python",
   "name": "python3"
  },
  "language_info": {
   "codemirror_mode": {
    "name": "ipython",
    "version": 3
   },
   "file_extension": ".py",
   "mimetype": "text/x-python",
   "name": "python",
   "nbconvert_exporter": "python",
   "pygments_lexer": "ipython3",
   "version": "3.7.1"
  }
 },
 "nbformat": 4,
 "nbformat_minor": 2
}
