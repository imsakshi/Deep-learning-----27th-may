{
  "nbformat": 4,
  "nbformat_minor": 0,
  "metadata": {
    "colab": {
      "name": "MNIST.ipynb",
      "provenance": [],
      "authorship_tag": "ABX9TyPE4ZQKi56K5pMqT5wr+bQB",
      "include_colab_link": true
    },
    "kernelspec": {
      "name": "python3",
      "display_name": "Python 3"
    }
  },
  "cells": [
    {
      "cell_type": "markdown",
      "metadata": {
        "id": "view-in-github",
        "colab_type": "text"
      },
      "source": [
        "<a href=\"https://colab.research.google.com/github/imsakshi/Deep-learning-----27th-may/blob/master/MNIST.ipynb\" target=\"_parent\"><img src=\"https://colab.research.google.com/assets/colab-badge.svg\" alt=\"Open In Colab\"/></a>"
      ]
    },
    {
      "cell_type": "code",
      "metadata": {
        "id": "HYsv0QKmdHKn",
        "colab_type": "code",
        "colab": {}
      },
      "source": [
        "#we are going to make all the deep learning models using keras.\n",
        "import tensorflow as tf\n"
      ],
      "execution_count": 0,
      "outputs": []
    },
    {
      "cell_type": "code",
      "metadata": {
        "id": "8rlhuSUQdyci",
        "colab_type": "code",
        "outputId": "adf1fd70-037b-448b-82f1-5de10e907a80",
        "colab": {
          "base_uri": "https://localhost:8080/",
          "height": 34
        }
      },
      "source": [
        "\n",
        "print(tf.__version__)"
      ],
      "execution_count": 2,
      "outputs": [
        {
          "output_type": "stream",
          "text": [
            "2.2.0\n"
          ],
          "name": "stdout"
        }
      ]
    },
    {
      "cell_type": "code",
      "metadata": {
        "id": "uuj_errBd9mn",
        "colab_type": "code",
        "outputId": "c76baa84-ced6-48ea-f93e-991319da82bc",
        "colab": {
          "base_uri": "https://localhost:8080/",
          "height": 34
        }
      },
      "source": [
        "#Lets import MNIST Dataset.\n",
        "from keras.datasets import mnist"
      ],
      "execution_count": 3,
      "outputs": [
        {
          "output_type": "stream",
          "text": [
            "Using TensorFlow backend.\n"
          ],
          "name": "stderr"
        }
      ]
    },
    {
      "cell_type": "code",
      "metadata": {
        "id": "C-Uft9cRedGE",
        "colab_type": "code",
        "outputId": "65664174-0160-4467-f314-0a5abcb868ad",
        "colab": {
          "base_uri": "https://localhost:8080/",
          "height": 51
        }
      },
      "source": [
        "#MNIST data set consists of handwritten digit images,there are 60,000 images are in Training set and 10,000 images are in Test set.\n",
        "(train_images,train_labels) , (test_images,test_labels) = mnist.load_data()"
      ],
      "execution_count": 4,
      "outputs": [
        {
          "output_type": "stream",
          "text": [
            "Downloading data from https://s3.amazonaws.com/img-datasets/mnist.npz\n",
            "11493376/11490434 [==============================] - 0s 0us/step\n"
          ],
          "name": "stdout"
        }
      ]
    },
    {
      "cell_type": "code",
      "metadata": {
        "id": "fRAJdWJjfCG1",
        "colab_type": "code",
        "colab": {}
      },
      "source": [
        "#Images always been stored in numpy arrays.\n",
        "#4 important attributes of numpy array.\n",
        "1. .ndim = Tells us the dimension of array.\n",
        "2. .shape = Tells us the shape of the array.\n",
        "3.  .size = Total number of elements in the array.\n",
        "4. .dtype = datatype of the elements of the array"
      ],
      "execution_count": 0,
      "outputs": []
    },
    {
      "cell_type": "code",
      "metadata": {
        "id": "-MZGx6POfu62",
        "colab_type": "code",
        "outputId": "275b5774-9dfe-4095-a314-23ae8d62e8d6",
        "colab": {
          "base_uri": "https://localhost:8080/",
          "height": 34
        }
      },
      "source": [
        "type(train_images)"
      ],
      "execution_count": 5,
      "outputs": [
        {
          "output_type": "execute_result",
          "data": {
            "text/plain": [
              "numpy.ndarray"
            ]
          },
          "metadata": {
            "tags": []
          },
          "execution_count": 5
        }
      ]
    },
    {
      "cell_type": "code",
      "metadata": {
        "id": "IwMfim8EfzJS",
        "colab_type": "code",
        "outputId": "0cd8d3b2-af83-41c2-f8d2-b45f93743a9c",
        "colab": {
          "base_uri": "https://localhost:8080/",
          "height": 34
        }
      },
      "source": [
        "print(train_images.ndim)"
      ],
      "execution_count": 6,
      "outputs": [
        {
          "output_type": "stream",
          "text": [
            "3\n"
          ],
          "name": "stdout"
        }
      ]
    },
    {
      "cell_type": "code",
      "metadata": {
        "id": "uleUSdcNf9H0",
        "colab_type": "code",
        "outputId": "425cc00b-6ea5-4a59-af13-5e49d8dd7d4d",
        "colab": {
          "base_uri": "https://localhost:8080/",
          "height": 34
        }
      },
      "source": [
        "print(train_images.shape) #There are 60K images having dimension 28 * 28"
      ],
      "execution_count": 7,
      "outputs": [
        {
          "output_type": "stream",
          "text": [
            "(60000, 28, 28)\n"
          ],
          "name": "stdout"
        }
      ]
    },
    {
      "cell_type": "code",
      "metadata": {
        "id": "0BXeittFgIuN",
        "colab_type": "code",
        "outputId": "96ef4c84-c65d-4f83-dd8e-e3c8f0652537",
        "colab": {
          "base_uri": "https://localhost:8080/",
          "height": 34
        }
      },
      "source": [
        "print(test_images.shape)"
      ],
      "execution_count": 8,
      "outputs": [
        {
          "output_type": "stream",
          "text": [
            "(10000, 28, 28)\n"
          ],
          "name": "stdout"
        }
      ]
    },
    {
      "cell_type": "code",
      "metadata": {
        "id": "ACrkcqWtgXaG",
        "colab_type": "code",
        "outputId": "49fadbee-2699-4fff-9645-760924a26978",
        "colab": {
          "base_uri": "https://localhost:8080/",
          "height": 34
        }
      },
      "source": [
        "print(train_labels.shape)"
      ],
      "execution_count": 9,
      "outputs": [
        {
          "output_type": "stream",
          "text": [
            "(60000,)\n"
          ],
          "name": "stdout"
        }
      ]
    },
    {
      "cell_type": "code",
      "metadata": {
        "id": "uNIoNGFBggAH",
        "colab_type": "code",
        "outputId": "33d1fd4c-07d7-40a6-800b-5855f007d34c",
        "colab": {
          "base_uri": "https://localhost:8080/",
          "height": 34
        }
      },
      "source": [
        "print(train_labels.ndim)"
      ],
      "execution_count": 10,
      "outputs": [
        {
          "output_type": "stream",
          "text": [
            "1\n"
          ],
          "name": "stdout"
        }
      ]
    },
    {
      "cell_type": "code",
      "metadata": {
        "id": "mglO2Xo7grLr",
        "colab_type": "code",
        "outputId": "d2c92196-b463-4a3b-9251-9d0c64ab228e",
        "colab": {
          "base_uri": "https://localhost:8080/",
          "height": 34
        }
      },
      "source": [
        "train_labels"
      ],
      "execution_count": 11,
      "outputs": [
        {
          "output_type": "execute_result",
          "data": {
            "text/plain": [
              "array([5, 0, 4, ..., 5, 6, 8], dtype=uint8)"
            ]
          },
          "metadata": {
            "tags": []
          },
          "execution_count": 11
        }
      ]
    },
    {
      "cell_type": "code",
      "metadata": {
        "id": "6lleWvqXg-Ma",
        "colab_type": "code",
        "outputId": "b5237ebf-41c9-49d2-b95b-3fea20bf2d9d",
        "colab": {
          "base_uri": "https://localhost:8080/",
          "height": 265
        }
      },
      "source": [
        "digit = train_images[50000]\n",
        "import matplotlib.pyplot as plt\n",
        "plt.imshow(digit,cmap=plt.cm.binary)\n",
        "plt.show()"
      ],
      "execution_count": 12,
      "outputs": [
        {
          "output_type": "display_data",
          "data": {
            "image/png": "[encoded data removed]",
            "text/plain": [
              "<Figure size 432x288 with 1 Axes>"
            ]
          },
          "metadata": {
            "tags": [],
            "needs_background": "light"
          }
        }
      ]
    },
    {
      "cell_type": "code",
      "metadata": {
        "id": "C-uA5fRuqfzn",
        "colab_type": "code",
        "colab": {}
      },
      "source": [
        "from tensorflow import keras"
      ],
      "execution_count": 0,
      "outputs": []
    },
    {
      "cell_type": "markdown",
      "metadata": {
        "id": "R1eOMeysrIQs",
        "colab_type": "text"
      },
      "source": [
        "The first layer in the network keras.layers.flatten, transforms the frmat of the images from a 2 dim array of (28 * 28) to a one dimensional array of 784 pixels.\n",
        "After the pixels are flattened, the network consists of a seqyence of two keras.layers.Dense layers. They are densely connected , or fully connected,neural layers. The first Dense layer has 128 nodes(or neurons). The second and last layer returns a array with length 10. Each node contains a score that indicates the current image belongs to one of the 10 classes."
      ]
    },
    {
      "cell_type": "code",
      "metadata": {
        "id": "9tjqwt0yqfdQ",
        "colab_type": "code",
        "colab": {
          "base_uri": "https://localhost:8080/",
          "height": 51
        },
        "outputId": "64a7696b-1187-4d00-b6d4-2e5988305e0b"
      },
      "source": [
        "import numpy as np\n",
        "a = np.array([[1,2,3],[4,5,6]])\n",
        "a"
      ],
      "execution_count": 17,
      "outputs": [
        {
          "output_type": "execute_result",
          "data": {
            "text/plain": [
              "array([[1, 2, 3],\n",
              "       [4, 5, 6]])"
            ]
          },
          "metadata": {
            "tags": []
          },
          "execution_count": 17
        }
      ]
    },
    {
      "cell_type": "code",
      "metadata": {
        "id": "tDvOIbmruAFH",
        "colab_type": "code",
        "colab": {
          "base_uri": "https://localhost:8080/",
          "height": 34
        },
        "outputId": "454afe2d-c78d-4456-e022-e3a87ed9c9c6"
      },
      "source": [
        "a.ndim"
      ],
      "execution_count": 18,
      "outputs": [
        {
          "output_type": "execute_result",
          "data": {
            "text/plain": [
              "2"
            ]
          },
          "metadata": {
            "tags": []
          },
          "execution_count": 18
        }
      ]
    },
    {
      "cell_type": "code",
      "metadata": {
        "id": "7DVilQEHuEj1",
        "colab_type": "code",
        "colab": {
          "base_uri": "https://localhost:8080/",
          "height": 34
        },
        "outputId": "5587df83-a44b-4a28-d050-d269f50f3a40"
      },
      "source": [
        "a.ravel()"
      ],
      "execution_count": 19,
      "outputs": [
        {
          "output_type": "execute_result",
          "data": {
            "text/plain": [
              "array([1, 2, 3, 4, 5, 6])"
            ]
          },
          "metadata": {
            "tags": []
          },
          "execution_count": 19
        }
      ]
    },
    {
      "cell_type": "code",
      "metadata": {
        "id": "e6vw_p3W6EgI",
        "colab_type": "code",
        "colab": {}
      },
      "source": [
        "from tensorflow import keras"
      ],
      "execution_count": 0,
      "outputs": []
    },
    {
      "cell_type": "code",
      "metadata": {
        "id": "2-pw7M7SocuS",
        "colab_type": "code",
        "colab": {}
      },
      "source": [
        "model = keras.Sequential([\n",
        "    keras.layers.Flatten(input_shape=(28, 28)),\n",
        "    keras.layers.Dense(128, activation='relu'),\n",
        "    keras.layers.Dense(10)\n",
        "])"
      ],
      "execution_count": 0,
      "outputs": []
    },
    {
      "cell_type": "markdown",
      "metadata": {
        "id": "pQc562y5tcU9",
        "colab_type": "text"
      },
      "source": [
        "Before the model is ready for training, it needs a few more settings. these are added during the model's compile step:\n",
        "1.Loss function: This measures how accurate the model is during training. we need to minimize this function to \"steer\" the model in the right direction.\n",
        "2. Optimizer :  This is how the model is updated based on the data it sees and its loss function.\n",
        "3.metrics : Used to monitor the training and testing steps. In this code we use accuracy, the fraction of the images that are correctly classified.\n",
        "\n",
        "---\n",
        "\n"
      ]
    },
    {
      "cell_type": "code",
      "metadata": {
        "id": "v0koraL1vT-o",
        "colab_type": "code",
        "colab": {}
      },
      "source": [
        "model.compile(optimizer=\"adam\",loss=tf.keras.losses.SparseCategoricalCrossentropy(from_logits=True),metrics=[\"accuracy\"])"
      ],
      "execution_count": 0,
      "outputs": []
    },
    {
      "cell_type": "markdown",
      "metadata": {
        "id": "i5hcPoFItcM6",
        "colab_type": "text"
      },
      "source": [
        "Train the model.\n",
        "Training the neural network model requires the following steps:\n",
        "1. Feed the training data to the model. In this example, the training data is in the train_images and train_labels arrays.\n",
        "2. The model learns to associate images and labels.\n",
        "3. You ask the model to make predictions about a test set -- in this example, the test_images array.\n",
        "4. verify that the predictions match the labels from the test_labels array.\n",
        "Feed the model.\n",
        "To start training, call model.fit method --- because it \"fits\" the model to the training data."
      ]
    },
    {
      "cell_type": "code",
      "metadata": {
        "id": "bu3vjeOXxif4",
        "colab_type": "code",
        "colab": {
          "base_uri": "https://localhost:8080/",
          "height": 204
        },
        "outputId": "2ad4433a-b19d-4ddf-d781-dced7c04674c"
      },
      "source": [
        "model.fit(train_images,train_labels,epochs = 5)"
      ],
      "execution_count": 30,
      "outputs": [
        {
          "output_type": "stream",
          "text": [
            "Epoch 1/5\n",
            "1875/1875 [==============================] - 3s 2ms/step - loss: 0.1783 - accuracy: 0.9556\n",
            "Epoch 2/5\n",
            "1875/1875 [==============================] - 3s 2ms/step - loss: 0.1703 - accuracy: 0.9590\n",
            "Epoch 3/5\n",
            "1875/1875 [==============================] - 3s 2ms/step - loss: 0.1684 - accuracy: 0.9600\n",
            "Epoch 4/5\n",
            "1875/1875 [==============================] - 4s 2ms/step - loss: 0.1703 - accuracy: 0.9600\n",
            "Epoch 5/5\n",
            "1875/1875 [==============================] - 3s 2ms/step - loss: 0.1619 - accuracy: 0.9625\n"
          ],
          "name": "stdout"
        },
        {
          "output_type": "execute_result",
          "data": {
            "text/plain": [
              "<tensorflow.python.keras.callbacks.History at 0x7fae214260f0>"
            ]
          },
          "metadata": {
            "tags": []
          },
          "execution_count": 30
        }
      ]
    },
    {
      "cell_type": "markdown",
      "metadata": {
        "id": "uLzhjPdPtcEQ",
        "colab_type": "text"
      },
      "source": [
        "\n",
        "\n",
        "```Evaluate the accuracy\n",
        "# This is formatted as code\n",
        "```\n",
        "\n"
      ]
    },
    {
      "cell_type": "code",
      "metadata": {
        "id": "XDWNrgXSy6uz",
        "colab_type": "code",
        "colab": {
          "base_uri": "https://localhost:8080/",
          "height": 68
        },
        "outputId": "3af1ded7-bb23-40e2-ef44-4c4e735f8262"
      },
      "source": [
        "test_loss , test_acc = model.evaluate(test_images,test_labels,verbose = 2)\n",
        "print(\"\\nTest accuracy :\" , test_acc)"
      ],
      "execution_count": 31,
      "outputs": [
        {
          "output_type": "stream",
          "text": [
            "313/313 - 0s - loss: 0.3584 - accuracy: 0.9426\n",
            "\n",
            "Test accuracy : 0.9426000118255615\n"
          ],
          "name": "stdout"
        }
      ]
    },
    {
      "cell_type": "markdown",
      "metadata": {
        "id": "vxlXGsmDtb7L",
        "colab_type": "text"
      },
      "source": [
        "*it turns out to be the accuracy on the test dataset is little less than the training dataset.\n",
        "The gap between training accuracy and test accuracy represents overfitting.**\n",
        "Overfitting happens when a machine learning model performs worse on new , previously unseen inputs than it does on training data.\n",
        "An overfitted model memorizes the noise and details in the training dataset to a point where it negatively impacts the performance of the model on the new data,"
      ]
    },
    {
      "cell_type": "code",
      "metadata": {
        "id": "epAtCCA70Xqd",
        "colab_type": "code",
        "colab": {}
      },
      "source": [
        "#make predictions\n",
        "prob_model = tf.keras.Sequential([model,tf.keras.layers.Softmax()])"
      ],
      "execution_count": 0,
      "outputs": []
    },
    {
      "cell_type": "code",
      "metadata": {
        "id": "jl9A4BLi0vfm",
        "colab_type": "code",
        "colab": {}
      },
      "source": [
        "predictions = prob_model.predict(test_images)"
      ],
      "execution_count": 0,
      "outputs": []
    },
    {
      "cell_type": "code",
      "metadata": {
        "id": "pgLvjEzO0vaK",
        "colab_type": "code",
        "colab": {
          "base_uri": "https://localhost:8080/",
          "height": 68
        },
        "outputId": "a8a87fcb-a904-4c44-8ab6-0bc738ff785a"
      },
      "source": [
        "predictions[0]"
      ],
      "execution_count": 34,
      "outputs": [
        {
          "output_type": "execute_result",
          "data": {
            "text/plain": [
              "array([3.3882963e-27, 2.3690436e-18, 1.5809919e-25, 5.4261612e-28,\n",
              "       8.8717417e-26, 3.4513749e-24, 4.5782040e-27, 1.0000000e+00,\n",
              "       2.1576914e-31, 1.2145158e-19], dtype=float32)"
            ]
          },
          "metadata": {
            "tags": []
          },
          "execution_count": 34
        }
      ]
    },
    {
      "cell_type": "markdown",
      "metadata": {
        "id": "iwoZrgTH0-f2",
        "colab_type": "text"
      },
      "source": [
        "A prediction is an array of 10 numbers. They represents the models \"confidence\"\n",
        "that the image corresponds to each of the 10 different digits. you can check which label has the highest confidence value."
      ]
    },
    {
      "cell_type": "code",
      "metadata": {
        "id": "y9ob9jzs1YKT",
        "colab_type": "code",
        "colab": {
          "base_uri": "https://localhost:8080/",
          "height": 34
        },
        "outputId": "eef8b471-dd7e-4071-9438-02fc15a8e299"
      },
      "source": [
        "import numpy as np\n",
        "np.argmax(predictions[0])"
      ],
      "execution_count": 35,
      "outputs": [
        {
          "output_type": "execute_result",
          "data": {
            "text/plain": [
              "7"
            ]
          },
          "metadata": {
            "tags": []
          },
          "execution_count": 35
        }
      ]
    },
    {
      "cell_type": "code",
      "metadata": {
        "id": "RarGbaQd0vXG",
        "colab_type": "code",
        "colab": {
          "base_uri": "https://localhost:8080/",
          "height": 34
        },
        "outputId": "42103a7b-bfd0-4176-e74e-13b248e3199e"
      },
      "source": [
        "test_labels[0]"
      ],
      "execution_count": 36,
      "outputs": [
        {
          "output_type": "execute_result",
          "data": {
            "text/plain": [
              "7"
            ]
          },
          "metadata": {
            "tags": []
          },
          "execution_count": 36
        }
      ]
    },
    {
      "cell_type": "code",
      "metadata": {
        "id": "_vDrz-vV0vVa",
        "colab_type": "code",
        "colab": {}
      },
      "source": [
        "#As we can see both  prediction and actual outcome comes out to be same, hence my model is working fine."
      ],
      "execution_count": 0,
      "outputs": []
    },
    {
      "cell_type": "code",
      "metadata": {
        "id": "N2A4KYfM0vQz",
        "colab_type": "code",
        "colab": {}
      },
      "source": [
        "#There is a dataset named as fashionm mnist.\n",
        "fashion_mnist = keras.datasets.fashion_mnist"
      ],
      "execution_count": 0,
      "outputs": []
    },
    {
      "cell_type": "code",
      "metadata": {
        "id": "LnjTqJ5w0vOt",
        "colab_type": "code",
        "colab": {
          "base_uri": "https://localhost:8080/",
          "height": 153
        },
        "outputId": "a4552bbd-940e-4849-9cd8-fd709da23306"
      },
      "source": [
        "(train_images,train_labels), (test_images,test_labels) = fashion_mnist.load_data()"
      ],
      "execution_count": 38,
      "outputs": [
        {
          "output_type": "stream",
          "text": [
            "Downloading data from https://storage.googleapis.com/tensorflow/tf-keras-datasets/train-labels-idx1-ubyte.gz\n",
            "32768/29515 [=================================] - 0s 0us/step\n",
            "Downloading data from https://storage.googleapis.com/tensorflow/tf-keras-datasets/train-images-idx3-ubyte.gz\n",
            "26427392/26421880 [==============================] - 0s 0us/step\n",
            "Downloading data from https://storage.googleapis.com/tensorflow/tf-keras-datasets/t10k-labels-idx1-ubyte.gz\n",
            "8192/5148 [===============================================] - 0s 0us/step\n",
            "Downloading data from https://storage.googleapis.com/tensorflow/tf-keras-datasets/t10k-images-idx3-ubyte.gz\n",
            "4423680/4422102 [==============================] - 0s 0us/step\n"
          ],
          "name": "stdout"
        }
      ]
    },
    {
      "cell_type": "code",
      "metadata": {
        "id": "YU1mFb540vMi",
        "colab_type": "code",
        "colab": {}
      },
      "source": [
        "0 - top\n",
        "1- trouser\n",
        "2 - pullover\n",
        "3 - Dress\n",
        "4 - coat\n",
        "5- sandal\n",
        "6 - shirt\n",
        "7 - sneaker\n",
        "8 - Bag\n",
        "9 - Ankle boot"
      ],
      "execution_count": 0,
      "outputs": []
    },
    {
      "cell_type": "code",
      "metadata": {
        "id": "dwSO41tX4qki",
        "colab_type": "code",
        "colab": {
          "base_uri": "https://localhost:8080/",
          "height": 265
        },
        "outputId": "ec73a453-8d15-4b13-a6c4-16b8bd08bb2f"
      },
      "source": [
        "import matplotlib.pyplot as plt\n",
        "plt.imshow(train_images[0])\n",
        "plt.show()"
      ],
      "execution_count": 39,
      "outputs": [
        {
          "output_type": "display_data",
          "data": {
            "image/png": "[encoded data removed]",
            "text/plain": [
              "<Figure size 432x288 with 1 Axes>"
            ]
          },
          "metadata": {
            "tags": [],
            "needs_background": "light"
          }
        }
      ]
    },
    {
      "cell_type": "code",
      "metadata": {
        "id": "gaggnkfP5qJk",
        "colab_type": "code",
        "colab": {}
      },
      "source": [
        "class_names = [\"top\",\"Trouser\",\"Pullover\",\"Dress\",\"coat\",\"sandal\",\"shirt\",\"sneaker\",\"bag\",\"ankle boot\"]"
      ],
      "execution_count": 0,
      "outputs": []
    },
    {
      "cell_type": "code",
      "metadata": {
        "id": "h_mY3mEW0vIM",
        "colab_type": "code",
        "colab": {
          "base_uri": "https://localhost:8080/",
          "height": 589
        },
        "outputId": "d57a2384-41c9-49ec-8848-aaac5800e286"
      },
      "source": [
        "plt.figure(figsize=(10,10))\n",
        "for i in range(25):\n",
        "  plt.subplot(5,5,i+1)\n",
        "  plt.xticks([])\n",
        "  plt.yticks([])\n",
        "  plt.grid(False)\n",
        "  plt.imshow(train_images[i])\n",
        "  plt.xlabel(class_names[train_labels[i]])\n",
        "plt.show()"
      ],
      "execution_count": 43,
      "outputs": [
        {
          "output_type": "display_data",
          "data": {
            "image/png": "[encoded data removed]",
            "text/plain": [
              "<Figure size 720x720 with 25 Axes>"
            ]
          },
          "metadata": {
            "tags": []
          }
        }
      ]
    },
    {
      "cell_type": "code",
      "metadata": {
        "id": "o9JBYJwq7eRD",
        "colab_type": "code",
        "colab": {}
      },
      "source": [
        ""
      ],
      "execution_count": 0,
      "outputs": []
    }
  ]
}