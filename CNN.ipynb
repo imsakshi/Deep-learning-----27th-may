{
  "nbformat": 4,
  "nbformat_minor": 0,
  "metadata": {
    "colab": {
      "name": "CNN.ipynb",
      "provenance": [],
      "authorship_tag": "ABX9TyOc3L8oXo5F+SBLf8YsbXhX",
      "include_colab_link": true
    },
    "kernelspec": {
      "name": "python3",
      "display_name": "Python 3"
    }
  },
  "cells": [
    {
      "cell_type": "markdown",
      "metadata": {
        "id": "view-in-github",
        "colab_type": "text"
      },
      "source": [
        "<a href=\"https://colab.research.google.com/github/imsakshi/Deep-learning-----27th-may/blob/master/CNN.ipynb\" target=\"_parent\"><img src=\"https://colab.research.google.com/assets/colab-badge.svg\" alt=\"Open In Colab\"/></a>"
      ]
    },
    {
      "cell_type": "code",
      "metadata": {
        "id": "7IEOaYlOa2eU",
        "colab_type": "code",
        "colab": {}
      },
      "source": [
        "In this Notebook we will apply CNN on mnist dataset using Keras."
      ],
      "execution_count": null,
      "outputs": []
    },
    {
      "cell_type": "code",
      "metadata": {
        "id": "5yDfN6vbbPR9",
        "colab_type": "code",
        "colab": {
          "base_uri": "https://localhost:8080/",
          "height": 34
        },
        "outputId": "92679e2e-3333-4d8a-c4a2-50748058842f"
      },
      "source": [
        "import keras\n",
        "from keras.datasets import mnist"
      ],
      "execution_count": 1,
      "outputs": [
        {
          "output_type": "stream",
          "text": [
            "Using TensorFlow backend.\n"
          ],
          "name": "stderr"
        }
      ]
    },
    {
      "cell_type": "code",
      "metadata": {
        "id": "F5IWaAmdbVSL",
        "colab_type": "code",
        "colab": {}
      },
      "source": [
        "from keras.models import Sequential\n",
        "from keras.layers import Dense,Dropout,Flatten\n",
        "from keras.layers import Conv2D, MaxPool2D\n",
        "from keras import backend as K"
      ],
      "execution_count": 2,
      "outputs": []
    },
    {
      "cell_type": "code",
      "metadata": {
        "id": "546utSDDb1ZK",
        "colab_type": "code",
        "colab": {}
      },
      "source": [
        "batch_size = 128\n",
        "num_classes = 10\n",
        "epochs = 12\n"
      ],
      "execution_count": 3,
      "outputs": []
    },
    {
      "cell_type": "code",
      "metadata": {
        "id": "Q_-DjvGxb8hB",
        "colab_type": "code",
        "colab": {}
      },
      "source": [
        "#Input image dimensions\n",
        "img_rows , img_cols = 28,28"
      ],
      "execution_count": 4,
      "outputs": []
    },
    {
      "cell_type": "code",
      "metadata": {
        "id": "CzLgP6wccEy2",
        "colab_type": "code",
        "colab": {
          "base_uri": "https://localhost:8080/",
          "height": 51
        },
        "outputId": "f5acdd66-892b-4cc2-a7c2-e64d706df4d7"
      },
      "source": [
        "(x_train, y_train) ,(x_test,y_test) = mnist.load_data()"
      ],
      "execution_count": 5,
      "outputs": [
        {
          "output_type": "stream",
          "text": [
            "Downloading data from https://s3.amazonaws.com/img-datasets/mnist.npz\n",
            "11493376/11490434 [==============================] - 1s 0us/step\n"
          ],
          "name": "stdout"
        }
      ]
    },
    {
      "cell_type": "code",
      "metadata": {
        "id": "36toIuSCcTb-",
        "colab_type": "code",
        "colab": {}
      },
      "source": [
        "if K.image_data_format() == \"channels_first\":\n",
        "  x_train = x_train.reshape(x_train.shape[0],1,img_rows,img_cols)\n",
        "  x_test = x_test.reshape(x_test.shape[0],1,img_rows,img_cols)\n",
        "  input_shape = (1,img_rows,img_cols)\n",
        "else:\n",
        "  x_train = x_train.reshape(x_train.shape[0],img_rows,img_cols,1)\n",
        "  x_test = x_test.reshape(x_test.shape[0],img_rows,img_cols,1)\n",
        "  input_shape = (img_rows,img_cols,1)"
      ],
      "execution_count": 6,
      "outputs": []
    },
    {
      "cell_type": "code",
      "metadata": {
        "id": "_7_c5FUHdhrY",
        "colab_type": "code",
        "colab": {
          "base_uri": "https://localhost:8080/",
          "height": 34
        },
        "outputId": "ef5f2a0d-da6f-4991-f573-d2c76f111887"
      },
      "source": [
        "x_train.dtype"
      ],
      "execution_count": 8,
      "outputs": [
        {
          "output_type": "execute_result",
          "data": {
            "text/plain": [
              "dtype('uint8')"
            ]
          },
          "metadata": {
            "tags": []
          },
          "execution_count": 8
        }
      ]
    },
    {
      "cell_type": "code",
      "metadata": {
        "id": "fWMjznFvdon2",
        "colab_type": "code",
        "colab": {}
      },
      "source": [
        "x_train = x_train.astype(\"float32\")\n",
        "x_test = x_test.astype(\"float32\")"
      ],
      "execution_count": 9,
      "outputs": []
    },
    {
      "cell_type": "code",
      "metadata": {
        "id": "nRAd0vvRd9PX",
        "colab_type": "code",
        "colab": {}
      },
      "source": [
        "x_train /=255\n",
        "x_test /=255"
      ],
      "execution_count": 10,
      "outputs": []
    },
    {
      "cell_type": "code",
      "metadata": {
        "id": "ppPaUKaxeGZx",
        "colab_type": "code",
        "colab": {
          "base_uri": "https://localhost:8080/",
          "height": 34
        },
        "outputId": "d9c0571e-b8e2-4c22-c264-ec1c936f634c"
      },
      "source": [
        "print(\"x_train_shape \" ,x_train.shape)"
      ],
      "execution_count": 11,
      "outputs": [
        {
          "output_type": "stream",
          "text": [
            "x_train_shape  (60000, 28, 28, 1)\n"
          ],
          "name": "stdout"
        }
      ]
    },
    {
      "cell_type": "code",
      "metadata": {
        "id": "gpTwAxz-ePc1",
        "colab_type": "code",
        "colab": {
          "base_uri": "https://localhost:8080/",
          "height": 51
        },
        "outputId": "6e607f39-32bd-41f8-f666-e4ccb14dc633"
      },
      "source": [
        "print(x_train.shape[0] , \"train_samples\")\n",
        "print(x_test.shape[0] , \"test_samples\")\n"
      ],
      "execution_count": 13,
      "outputs": [
        {
          "output_type": "stream",
          "text": [
            "60000 train_samples\n",
            "10000 test_samples\n"
          ],
          "name": "stdout"
        }
      ]
    },
    {
      "cell_type": "code",
      "metadata": {
        "id": "WVb6eH_qekD8",
        "colab_type": "code",
        "colab": {
          "base_uri": "https://localhost:8080/",
          "height": 34
        },
        "outputId": "9eb43352-7bc0-4e6f-a43f-26461ef2b840"
      },
      "source": [
        "y_train"
      ],
      "execution_count": 14,
      "outputs": [
        {
          "output_type": "execute_result",
          "data": {
            "text/plain": [
              "array([5, 0, 4, ..., 5, 6, 8], dtype=uint8)"
            ]
          },
          "metadata": {
            "tags": []
          },
          "execution_count": 14
        }
      ]
    },
    {
      "cell_type": "code",
      "metadata": {
        "id": "fm_hJO3Le0Pq",
        "colab_type": "code",
        "colab": {}
      },
      "source": [
        "#Convert class vectors to binary class matrices, simply applying onehot encoding\n",
        "y_train = keras.utils.to_categorical(y_train,num_classes)\n",
        "y_test = keras.utils.to_categorical(y_test,num_classes)\n"
      ],
      "execution_count": 15,
      "outputs": []
    },
    {
      "cell_type": "code",
      "metadata": {
        "id": "WaoVNZQigJcB",
        "colab_type": "code",
        "colab": {}
      },
      "source": [
        "model = Sequential()\n",
        "model.add(Conv2D(32,kernel_size=(3,3),activation=\"relu\",input_shape=input_shape))\n",
        "model.add(Conv2D(64, (3,3),activation=\"relu\"))\n",
        "model.add(MaxPool2D(pool_size=(2,2)))\n",
        "model.add(Dropout(0.25))\n",
        "model.add(Flatten())\n",
        "model.add(Dense(128,activation=\"relu\"))\n",
        "model.add(Dropout(0.5))\n",
        "model.add(Dense(num_classes,activation=\"softmax\"))"
      ],
      "execution_count": 20,
      "outputs": []
    },
    {
      "cell_type": "code",
      "metadata": {
        "id": "h-Tm-gaAhOEw",
        "colab_type": "code",
        "colab": {}
      },
      "source": [
        "model.compile(loss=keras.losses.categorical_crossentropy,optimizer=keras.optimizers.adam(),metrics=[\"accuracy\"])"
      ],
      "execution_count": 21,
      "outputs": []
    },
    {
      "cell_type": "code",
      "metadata": {
        "id": "RIVCtGsmiHWG",
        "colab_type": "code",
        "colab": {
          "base_uri": "https://localhost:8080/",
          "height": 459
        },
        "outputId": "3ef1cebe-40bd-4dee-a761-abf85a4896b1"
      },
      "source": [
        "model.fit(x_train,y_train,batch_size=batch_size,epochs=epochs,validation_data=(x_test,y_test))"
      ],
      "execution_count": 22,
      "outputs": [
        {
          "output_type": "stream",
          "text": [
            "Train on 60000 samples, validate on 10000 samples\n",
            "Epoch 1/12\n",
            "60000/60000 [==============================] - 139s 2ms/step - loss: 0.2506 - accuracy: 0.9244 - val_loss: 0.0550 - val_accuracy: 0.9812\n",
            "Epoch 2/12\n",
            "60000/60000 [==============================] - 139s 2ms/step - loss: 0.0893 - accuracy: 0.9728 - val_loss: 0.0401 - val_accuracy: 0.9867\n",
            "Epoch 3/12\n",
            "60000/60000 [==============================] - 137s 2ms/step - loss: 0.0660 - accuracy: 0.9797 - val_loss: 0.0349 - val_accuracy: 0.9893\n",
            "Epoch 4/12\n",
            "60000/60000 [==============================] - 137s 2ms/step - loss: 0.0546 - accuracy: 0.9835 - val_loss: 0.0314 - val_accuracy: 0.9898\n",
            "Epoch 5/12\n",
            "60000/60000 [==============================] - 138s 2ms/step - loss: 0.0447 - accuracy: 0.9864 - val_loss: 0.0277 - val_accuracy: 0.9911\n",
            "Epoch 6/12\n",
            "60000/60000 [==============================] - 137s 2ms/step - loss: 0.0383 - accuracy: 0.9881 - val_loss: 0.0293 - val_accuracy: 0.9908\n",
            "Epoch 7/12\n",
            "60000/60000 [==============================] - 137s 2ms/step - loss: 0.0354 - accuracy: 0.9886 - val_loss: 0.0291 - val_accuracy: 0.9913\n",
            "Epoch 8/12\n",
            "60000/60000 [==============================] - 135s 2ms/step - loss: 0.0319 - accuracy: 0.9894 - val_loss: 0.0297 - val_accuracy: 0.9920\n",
            "Epoch 9/12\n",
            "60000/60000 [==============================] - 134s 2ms/step - loss: 0.0275 - accuracy: 0.9909 - val_loss: 0.0272 - val_accuracy: 0.9920\n",
            "Epoch 10/12\n",
            "60000/60000 [==============================] - 133s 2ms/step - loss: 0.0259 - accuracy: 0.9920 - val_loss: 0.0261 - val_accuracy: 0.9923\n",
            "Epoch 11/12\n",
            "60000/60000 [==============================] - 135s 2ms/step - loss: 0.0226 - accuracy: 0.9925 - val_loss: 0.0301 - val_accuracy: 0.9911\n",
            "Epoch 12/12\n",
            "60000/60000 [==============================] - 135s 2ms/step - loss: 0.0232 - accuracy: 0.9926 - val_loss: 0.0277 - val_accuracy: 0.9918\n"
          ],
          "name": "stdout"
        },
        {
          "output_type": "execute_result",
          "data": {
            "text/plain": [
              "<keras.callbacks.callbacks.History at 0x7f911ec98cf8>"
            ]
          },
          "metadata": {
            "tags": []
          },
          "execution_count": 22
        }
      ]
    },
    {
      "cell_type": "code",
      "metadata": {
        "id": "MYZgSx8liaPF",
        "colab_type": "code",
        "colab": {
          "base_uri": "https://localhost:8080/",
          "height": 68
        },
        "outputId": "54e68796-a769-4e6c-ff27-fa058f2c7e28"
      },
      "source": [
        "score = model.evaluate(x_test,y_test)\n",
        "print(\"Test loss \" , score[0])\n",
        "print(\"Test Accuracy \" , score[1])"
      ],
      "execution_count": 23,
      "outputs": [
        {
          "output_type": "stream",
          "text": [
            "10000/10000 [==============================] - 6s 554us/step\n",
            "Test loss  0.027683536757971274\n",
            "Test Accuracy  0.9918000102043152\n"
          ],
          "name": "stdout"
        }
      ]
    },
    {
      "cell_type": "code",
      "metadata": {
        "id": "GXhe12rcot95",
        "colab_type": "code",
        "colab": {}
      },
      "source": [
        ""
      ],
      "execution_count": null,
      "outputs": []
    }
  ]
}